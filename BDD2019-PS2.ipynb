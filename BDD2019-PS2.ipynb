{
 "cells": [
  {
   "cell_type": "markdown",
   "metadata": {},
   "source": [
    "# Problem Set 2\n",
    "\n",
    "This problem set will give you the opportunity to download and analyze a small corpus of mobile phone metadata, in order to study the internal migration response to a major earthquake.  The problem set relates loosely to several papers discussed in the class, and in particular to <a href='http://www.sciencedirect.com/science/article/pii/S0304387816000109'>\"Airtime Transfers and Mobile Communications: Evidence in the Aftermath of Natural Disasters\"</a>. You might wish to familiarize yourself with this paper before beginning the assignment.\n",
    "\n",
    "![title](datasets/heatmap.png)\n",
    "\n",
    "## Overview of the problem set\n",
    "\n",
    "These are the key steps in the problem set:\n",
    "\n",
    "1. Download the CDR and familiarize yourself with the dataset\n",
    "2. Develop a method for detecting a \"migration\" event\n",
    "3. Analyze the migration response to the Lake Kivu earthquake"
   ]
  },
  {
   "cell_type": "markdown",
   "metadata": {},
   "source": [
    "# 1. Conduct exploratory analysis of the Call Detail Records\n",
    "\n",
    "Download the three datasets from the course website (available on bCourses under files/PS2).\n",
    "- `cdr_sample.zip`: This dataset contains the full Call Detail Records of a few thousand individuals. These data have been pseudonymized and partially fabricated, to ensure the privacy and confidentiality of the subscribers. However, the data are not that different from the raw data that are collected by mobile phone operators throughout the world. \n",
    "    - There are six columns in this dataset: user_1 (ID of person placing call), user_2 (ID of person receiving call), date, time, tower_1 (location of user_1), and tower_2 (location of user_2). We have strategically sampled ~3600 users and their full call detail records. The users in the column user_1 are these 3600 users.\n",
    "    - Note that the column user_2 might also contain those ~3600 users. Therefore, when calculating the number of logged events per person, don't forget the column user_2. \n",
    "- `celltower_location.csv`: This dataset contains the geocordinates of each cell tower, along with the district in which it is located. We added some jitter to the original coordinates, but each tower still belongs to its original district. \n",
    "- `District_Boundary_2012_merge_kigali.zip`: This dataset is the district [shapefile](https://en.wikipedia.org/wiki/Shapefile) of Rwanda. There are 30 districts in Rwanda, but we have merged the 3 districts that comprise the capital of Kigali. Thus, you will find 28 districts in the dataset.\n",
    "\n",
    "## 1.1 Present basic descriptive statistics, tables, and figures, to summarize the data\n",
    "\n",
    "Construct a set of tables and figures that summarize key characteristics of this dataset: how many unique individuals, what time period is covered, how many events are logged per person, and so forth. Imagine that you are constructing the first tables and figures in a research paper, and you wish to provide your reader with as much intuition as possible about what information is contained in your dataset. Be creative, but be disciplined. Your figures should be professional, carefully labelled, and easily interpreted.\n"
   ]
  },
  {
   "cell_type": "code",
   "execution_count": 2,
   "metadata": {},
   "outputs": [
    {
     "data": {
      "text/html": [
       "<div>\n",
       "<style scoped>\n",
       "    .dataframe tbody tr th:only-of-type {\n",
       "        vertical-align: middle;\n",
       "    }\n",
       "\n",
       "    .dataframe tbody tr th {\n",
       "        vertical-align: top;\n",
       "    }\n",
       "\n",
       "    .dataframe thead th {\n",
       "        text-align: right;\n",
       "    }\n",
       "</style>\n",
       "<table border=\"1\" class=\"dataframe\">\n",
       "  <thead>\n",
       "    <tr style=\"text-align: right;\">\n",
       "      <th></th>\n",
       "      <th>user_1</th>\n",
       "      <th>user_2</th>\n",
       "      <th>date</th>\n",
       "      <th>time</th>\n",
       "      <th>tower_1</th>\n",
       "      <th>tower_2</th>\n",
       "    </tr>\n",
       "  </thead>\n",
       "  <tbody>\n",
       "    <tr>\n",
       "      <th>0</th>\n",
       "      <td>L55737047</td>\n",
       "      <td>L02196776</td>\n",
       "      <td>80617</td>\n",
       "      <td>18:30:17</td>\n",
       "      <td>9</td>\n",
       "      <td>9</td>\n",
       "    </tr>\n",
       "    <tr>\n",
       "      <th>1</th>\n",
       "      <td>L55737047</td>\n",
       "      <td>L45332350</td>\n",
       "      <td>80730</td>\n",
       "      <td>21:33:08</td>\n",
       "      <td>47</td>\n",
       "      <td>47</td>\n",
       "    </tr>\n",
       "    <tr>\n",
       "      <th>2</th>\n",
       "      <td>L55737047</td>\n",
       "      <td>L87926818</td>\n",
       "      <td>80422</td>\n",
       "      <td>14:25:31</td>\n",
       "      <td>74</td>\n",
       "      <td>74</td>\n",
       "    </tr>\n",
       "    <tr>\n",
       "      <th>3</th>\n",
       "      <td>L55737047</td>\n",
       "      <td>L87926818</td>\n",
       "      <td>80408</td>\n",
       "      <td>15:23:13</td>\n",
       "      <td>20</td>\n",
       "      <td>46</td>\n",
       "    </tr>\n",
       "    <tr>\n",
       "      <th>4</th>\n",
       "      <td>L55737047</td>\n",
       "      <td>L87926818</td>\n",
       "      <td>80123</td>\n",
       "      <td>17:35:49</td>\n",
       "      <td>171</td>\n",
       "      <td>171</td>\n",
       "    </tr>\n",
       "  </tbody>\n",
       "</table>\n",
       "</div>"
      ],
      "text/plain": [
       "      user_1     user_2   date      time  tower_1  tower_2\n",
       "0  L55737047  L02196776  80617  18:30:17        9        9\n",
       "1  L55737047  L45332350  80730  21:33:08       47       47\n",
       "2  L55737047  L87926818  80422  14:25:31       74       74\n",
       "3  L55737047  L87926818  80408  15:23:13       20       46\n",
       "4  L55737047  L87926818  80123  17:35:49      171      171"
      ]
     },
     "execution_count": 2,
     "metadata": {},
     "output_type": "execute_result"
    }
   ],
   "source": [
    "#\n",
    "# enter code here\n",
    "#\n",
    "import pandas as pd \n",
    "cdr_data = pd.read_csv(\"datasets/cdr_sample.csv\") \n",
    "cdr_data.head()"
   ]
  },
  {
   "cell_type": "code",
   "execution_count": 3,
   "metadata": {},
   "outputs": [
    {
     "data": {
      "text/plain": [
       "user_1       3610\n",
       "user_2     185497\n",
       "date          366\n",
       "time        85810\n",
       "tower_1       170\n",
       "tower_2       170\n",
       "dtype: int64"
      ]
     },
     "execution_count": 3,
     "metadata": {},
     "output_type": "execute_result"
    }
   ],
   "source": [
    "# Uniques across each column\n",
    "cdr_data.nunique()"
   ]
  },
  {
   "cell_type": "code",
   "execution_count": 4,
   "metadata": {},
   "outputs": [
    {
     "data": {
      "text/plain": [
       "185987"
      ]
     },
     "execution_count": 4,
     "metadata": {},
     "output_type": "execute_result"
    }
   ],
   "source": [
    "user_columns = pd.concat([cdr_data.user_1, cdr_data.user_2], axis=0, sort=False)\n",
    "# number of unique users (either in user_1 or user_2 columns)\n",
    "user_columns.nunique()"
   ]
  },
  {
   "cell_type": "code",
   "execution_count": 5,
   "metadata": {},
   "outputs": [
    {
     "data": {
      "text/plain": [
       "70801"
      ]
     },
     "execution_count": 5,
     "metadata": {},
     "output_type": "execute_result"
    }
   ],
   "source": [
    "# date period covered\n",
    "cdr_data.date.min()"
   ]
  },
  {
   "cell_type": "code",
   "execution_count": 6,
   "metadata": {},
   "outputs": [
    {
     "data": {
      "text/plain": [
       "80731"
      ]
     },
     "execution_count": 6,
     "metadata": {},
     "output_type": "execute_result"
    }
   ],
   "source": [
    "cdr_data.date.max()"
   ]
  },
  {
   "cell_type": "code",
   "execution_count": 7,
   "metadata": {},
   "outputs": [],
   "source": [
    "# convert dates\n",
    "# cdr_date/86400+DATE(1970,1,1)\n",
    "from datetime import date\n",
    "from datetime import datetime\n",
    "start_date = datetime(1970, 1, 1, 0, 0)\n",
    "\n"
   ]
  },
  {
   "cell_type": "code",
   "execution_count": null,
   "metadata": {},
   "outputs": [],
   "source": []
  },
  {
   "cell_type": "code",
   "execution_count": null,
   "metadata": {},
   "outputs": [],
   "source": []
  },
  {
   "cell_type": "code",
   "execution_count": 19,
   "metadata": {},
   "outputs": [
    {
     "name": "stdout",
     "output_type": "stream",
     "text": [
      "Total calls 4388305\n",
      "Sum of calls by user_1 is 4388305\n",
      "Total calls 4388305\n",
      "Sum of calls by user_2 is 4388305\n"
     ]
    },
    {
     "data": {
      "text/plain": [
       "L87716080    4963\n",
       "L66519191    3961\n",
       "L70370484    3356\n",
       "L37678060    2394\n",
       "L96597103    2355\n",
       "Name: user_2, dtype: int64"
      ]
     },
     "execution_count": 19,
     "metadata": {},
     "output_type": "execute_result"
    }
   ],
   "source": [
    "# number of logged events per person\n",
    "# for user 1\n",
    "user_1_counts = cdr_data['user_1'].value_counts()\n",
    "print(\"Total calls \" + str(cdr_data['user_1'].shape[0]))\n",
    "print(\"Sum of calls by user_1 is \" + str(user_1_counts.sum()))\n",
    "user_1_counts.head()\n",
    "\n",
    "# for user 2\n",
    "user_2_counts = cdr_data['user_2'].value_counts()\n",
    "print(\"Total calls \" + str(cdr_data['user_2'].shape[0]))\n",
    "print(\"Sum of calls by user_2 is \" + str(user_2_counts.sum()))\n",
    "user_2_counts.head()"
   ]
  },
  {
   "cell_type": "code",
   "execution_count": 68,
   "metadata": {},
   "outputs": [
    {
     "name": "stdout",
     "output_type": "stream",
     "text": [
      "Lowest number of calls is 1 and highest is 15\n"
     ]
    },
    {
     "data": {
      "image/png": "[encoded data removed]",
      "text/plain": [
       "<Figure size 432x288 with 1 Axes>"
      ]
     },
     "metadata": {
      "needs_background": "light"
     },
     "output_type": "display_data"
    }
   ],
   "source": [
    "user_1_call_dist = user_1_counts.value_counts().sort_index()\n",
    "pl = user_1_call_dist.plot()\n",
    "pl.set_title(\"Distribution of Number of Calls by user_1\")\n",
    "pl.set_xlabel(\"Number of calls made by individual\")\n",
    "pl.set_ylabel(\"Number of individuals\")\n",
    "print(\"Lowest number of calls is \" + str(user_1_call_dist.min()) + \" and highest is \" + str(user_1_call_dist.max()))"
   ]
  },
  {
   "cell_type": "code",
   "execution_count": 82,
   "metadata": {},
   "outputs": [
    {
     "name": "stdout",
     "output_type": "stream",
     "text": [
      "Lowest number of calls is 1 with 7 people\n",
      "Highest number of calls is 21644 with 1 people\n"
     ]
    }
   ],
   "source": [
    "min_call = user_1_call_dist.index.min() # lowest number of calls\n",
    "num_people = user_1_call_dist[min_call] # number of people with lowest number of calls\n",
    "print(\"Lowest number of calls is \" + str(min_call) + \" with \" + str(num_people) + \" people\")\n",
    "max_call = user_1_call_dist.index.max() # highest number of calls\n",
    "num_people = user_1_call_dist[max_call] # number of people with highest number of calls\n",
    "print(\"Highest number of calls is \" + str(max_call) + \" with \" + str(num_people) + \" people\")\n"
   ]
  },
  {
   "cell_type": "code",
   "execution_count": 101,
   "metadata": {},
   "outputs": [
    {
     "data": {
      "text/plain": [
       "21644"
      ]
     },
     "execution_count": 101,
     "metadata": {},
     "output_type": "execute_result"
    }
   ],
   "source": [
    "import statistics \n",
    "statistics.mean(user_1_call_dist.index.tolist())\n",
    "max(user_1_call_dist.index.tolist())\n",
    "# user_1_call_dist[int(statistics.mean(user_1_call_dist.index.tolist()))-1]"
   ]
  },
  {
   "cell_type": "code",
   "execution_count": 70,
   "metadata": {},
   "outputs": [
    {
     "data": {
      "text/plain": [
       "Text(0, 0.5, 'Number of individuals')"
      ]
     },
     "execution_count": 70,
     "metadata": {},
     "output_type": "execute_result"
    },
    {
     "data": {
      "image/png": "[encoded data removed]",
      "text/plain": [
       "<Figure size 432x288 with 1 Axes>"
      ]
     },
     "metadata": {
      "needs_background": "light"
     },
     "output_type": "display_data"
    }
   ],
   "source": [
    "pl = user_2_counts.value_counts().sort_index().plot()\n",
    "pl.set_title(\"Distribution of Number of Calls by user_2\")\n",
    "pl.set_xlabel(\"Number of calls made by individual\")\n",
    "pl.set_ylabel(\"Number of individuals\")"
   ]
  },
  {
   "cell_type": "code",
   "execution_count": null,
   "metadata": {},
   "outputs": [],
   "source": []
  },
  {
   "cell_type": "code",
   "execution_count": null,
   "metadata": {},
   "outputs": [],
   "source": []
  },
  {
   "cell_type": "code",
   "execution_count": 31,
   "metadata": {},
   "outputs": [
    {
     "name": "stdout",
     "output_type": "stream",
     "text": [
      "Lowest number of calls is 1 and highest is 21644\n"
     ]
    },
    {
     "data": {
      "image/png": "[encoded data removed]",
      "text/plain": [
       "<Figure size 432x288 with 1 Axes>"
      ]
     },
     "metadata": {
      "needs_background": "light"
     },
     "output_type": "display_data"
    }
   ],
   "source": [
    "hist_user1 = user_1_counts.hist(bins=100)\n",
    "hist_user1.set_title('Distribution of Number of Calls by User_1')\n",
    "hist_user1.set_xlabel(\"Number of Calls\")\n",
    "hist_user1.set_ylabel(\"Number of Individuals\")\n",
    "print(\"Lowest number of calls is \" + str(user_1_counts.min()) + \" and highest is \" + str(user_1_counts.max()))\n"
   ]
  },
  {
   "cell_type": "code",
   "execution_count": 42,
   "metadata": {},
   "outputs": [
    {
     "data": {
      "text/plain": [
       "43861"
      ]
     },
     "execution_count": 42,
     "metadata": {},
     "output_type": "execute_result"
    }
   ],
   "source": [
    "len(user_2_counts[user_2_counts==1])"
   ]
  },
  {
   "cell_type": "code",
   "execution_count": 51,
   "metadata": {},
   "outputs": [
    {
     "name": "stdout",
     "output_type": "stream",
     "text": [
      "Lowest number of calls is 1 and highest is 4963\n"
     ]
    },
    {
     "data": {
      "image/png": "[encoded data removed]",
      "text/plain": [
       "<Figure size 432x288 with 1 Axes>"
      ]
     },
     "metadata": {
      "needs_background": "light"
     },
     "output_type": "display_data"
    }
   ],
   "source": [
    "\n",
    "hist_user2 = user_2_counts.hist(bins=500)\n",
    "hist_user2.set_title('Distribution of Number of Calls by User_2')\n",
    "hist_user2.set_xlabel(\"Number of Calls\")\n",
    "hist_user2.set_ylabel(\"Number of Individuals\")\n",
    "print(\"Lowest number of calls is \" + str(user_2_counts.min()) + \" and highest is \" + str(user_2_counts.max()))"
   ]
  },
  {
   "cell_type": "code",
   "execution_count": 13,
   "metadata": {},
   "outputs": [
    {
     "data": {
      "text/plain": [
       "4388305"
      ]
     },
     "execution_count": 13,
     "metadata": {},
     "output_type": "execute_result"
    }
   ],
   "source": []
  },
  {
   "cell_type": "code",
   "execution_count": null,
   "metadata": {},
   "outputs": [],
   "source": []
  },
  {
   "cell_type": "code",
   "execution_count": null,
   "metadata": {},
   "outputs": [],
   "source": []
  },
  {
   "cell_type": "code",
   "execution_count": null,
   "metadata": {},
   "outputs": [],
   "source": [
    "# for user 2\n",
    "\n"
   ]
  },
  {
   "cell_type": "code",
   "execution_count": null,
   "metadata": {},
   "outputs": [],
   "source": []
  },
  {
   "cell_type": "code",
   "execution_count": null,
   "metadata": {},
   "outputs": [],
   "source": [
    "# distribution of logged events over time\n",
    "\n",
    "# by person\n",
    "\n",
    "# by location"
   ]
  },
  {
   "cell_type": "code",
   "execution_count": null,
   "metadata": {},
   "outputs": [],
   "source": [
    "# distribution of times\n",
    "cdr_data['time'].value_counts()[:20].plot()"
   ]
  },
  {
   "cell_type": "code",
   "execution_count": null,
   "metadata": {},
   "outputs": [],
   "source": [
    "#distribution of dates"
   ]
  },
  {
   "cell_type": "code",
   "execution_count": null,
   "metadata": {},
   "outputs": [],
   "source": []
  },
  {
   "cell_type": "code",
   "execution_count": 6,
   "metadata": {},
   "outputs": [
    {
     "data": {
      "text/html": [
       "<div>\n",
       "<style scoped>\n",
       "    .dataframe tbody tr th:only-of-type {\n",
       "        vertical-align: middle;\n",
       "    }\n",
       "\n",
       "    .dataframe tbody tr th {\n",
       "        vertical-align: top;\n",
       "    }\n",
       "\n",
       "    .dataframe thead th {\n",
       "        text-align: right;\n",
       "    }\n",
       "</style>\n",
       "<table border=\"1\" class=\"dataframe\">\n",
       "  <thead>\n",
       "    <tr style=\"text-align: right;\">\n",
       "      <th></th>\n",
       "      <th>antenna_id</th>\n",
       "      <th>longitude</th>\n",
       "      <th>latitude</th>\n",
       "      <th>district</th>\n",
       "    </tr>\n",
       "  </thead>\n",
       "  <tbody>\n",
       "    <tr>\n",
       "      <th>0</th>\n",
       "      <td>1</td>\n",
       "      <td>30.096104</td>\n",
       "      <td>-1.931660</td>\n",
       "      <td>Kigali</td>\n",
       "    </tr>\n",
       "    <tr>\n",
       "      <th>1</th>\n",
       "      <td>3</td>\n",
       "      <td>30.122176</td>\n",
       "      <td>-1.997260</td>\n",
       "      <td>Kigali</td>\n",
       "    </tr>\n",
       "    <tr>\n",
       "      <th>2</th>\n",
       "      <td>4</td>\n",
       "      <td>30.070381</td>\n",
       "      <td>-1.951818</td>\n",
       "      <td>Kigali</td>\n",
       "    </tr>\n",
       "    <tr>\n",
       "      <th>3</th>\n",
       "      <td>5</td>\n",
       "      <td>30.062391</td>\n",
       "      <td>-1.918881</td>\n",
       "      <td>Kigali</td>\n",
       "    </tr>\n",
       "    <tr>\n",
       "      <th>4</th>\n",
       "      <td>6</td>\n",
       "      <td>30.159390</td>\n",
       "      <td>-2.017144</td>\n",
       "      <td>Kigali</td>\n",
       "    </tr>\n",
       "  </tbody>\n",
       "</table>\n",
       "</div>"
      ],
      "text/plain": [
       "   antenna_id  longitude  latitude district\n",
       "0           1  30.096104 -1.931660   Kigali\n",
       "1           3  30.122176 -1.997260   Kigali\n",
       "2           4  30.070381 -1.951818   Kigali\n",
       "3           5  30.062391 -1.918881   Kigali\n",
       "4           6  30.159390 -2.017144   Kigali"
      ]
     },
     "execution_count": 6,
     "metadata": {},
     "output_type": "execute_result"
    }
   ],
   "source": [
    "# cell tower data\n",
    "celltower_data = pd.read_csv(\"datasets/celltower_location.csv\")\n",
    "celltower_data.head()"
   ]
  },
  {
   "cell_type": "code",
   "execution_count": 7,
   "metadata": {},
   "outputs": [
    {
     "data": {
      "text/plain": [
       "antenna_id    267\n",
       "longitude     267\n",
       "latitude      267\n",
       "district       28\n",
       "dtype: int64"
      ]
     },
     "execution_count": 7,
     "metadata": {},
     "output_type": "execute_result"
    }
   ],
   "source": [
    "# number of unique celltowers\n",
    "celltower_data.nunique()"
   ]
  },
  {
   "cell_type": "code",
   "execution_count": null,
   "metadata": {},
   "outputs": [],
   "source": []
  },
  {
   "cell_type": "markdown",
   "metadata": {},
   "source": [
    "## 1.2 Show off your mapping skills\n",
    "\n",
    "Construct a figure (or two) that provides some geo-spatial intuition behind these data. The `celltower_locations.csv` file will allow you to map towers (referenced in the CDR) to GPS coordinates. Some ideas for what you might do:\n",
    " - Construct a heat-map showing the density of frequently visited locations\n",
    " - Show a voronoi tesselation of the country, to give an intuition for the density of towers in different locations\n",
    " - Assign a 'home location' to each person (up to you how to do so!), and map each person's home location\n",
    " - Build a time-series to visualize how the spatial distribution of phone use changes over time\n",
    " - Something else creative that you come up with!\n",
    "\n",
    "Hint: You might considering using [geopandas](http://geopandas.org/) to read shapefile, [shapely](https://github.com/Toblerity/Shapely) to create geometry, and [folium](https://python-visualization.github.io/folium/) to create maps."
   ]
  },
  {
   "cell_type": "code",
   "execution_count": 1,
   "metadata": {
    "collapsed": true
   },
   "outputs": [],
   "source": [
    "#\n",
    "# Your code here\n",
    "#"
   ]
  },
  {
   "cell_type": "markdown",
   "metadata": {},
   "source": [
    "# 2. Measuring Migration\n",
    "\n",
    "## 2.1 Write an (unsupervised) algorithm to infer migration from the CDR\n",
    "\n",
    "For each individual in the dataset, the CDR provides you with an intermittent stream of their approximate locations over time. What I would like you to do is to convert this streaming log data into a structured dataset that makes it possible to quantify and study internal migration in Rwanda. In particular, use the data you have to quantify the number of migration events that occur in each month that is contained in the CDR. Produce a single time-series figure that has \"Year-Month\" on the x-axis, and \"Number of observed migrations\" on the y-axis.\n",
    "\n",
    "Please note that this is actually a complex task and there are many possible ways to do this. There is no \"right\" way to do this -- although there are many \"wrong\" ways. Be creative, but be rigorous. Document and justify the decisions you make along the way, and write a few paragraphs below to summarize your approach and findings.\n",
    "\n",
    "As a starting point, you should probably review the approach I described in <a href='http://www.tandfonline.com/doi/abs/10.1080/02681102.2011.643209'>\"Inferring Patterns of Internal Migration from Mobile Phone Call Records: Evidence from Rwanda\"</a>. As discussed in class, that approach has many flaws, so I strongly encourage you to come up with your own approach."
   ]
  },
  {
   "cell_type": "code",
   "execution_count": null,
   "metadata": {
    "collapsed": true
   },
   "outputs": [],
   "source": [
    "#\n",
    "# Your code here\n",
    "#"
   ]
  },
  {
   "cell_type": "markdown",
   "metadata": {},
   "source": [
    "\n",
    "*Your documentation, justification, interpreation goes here*\n",
    "\n"
   ]
  },
  {
   "cell_type": "markdown",
   "metadata": {},
   "source": [
    "# 3. The Lake Kivu Earthquake\n",
    "\n",
    "On February 3, 2008, a large earthquake struck the Lake Kivu region of Rwanda and the DRC (see <a href='https://en.wikipedia.org/wiki/2008_Lake_Kivu_earthquake'>wikipedia</a> and <a href='https://earthquake.usgs.gov/earthquakes/eventpage/usp000fy21/executive'>USGS</a> summaries). \n",
    "\n",
    "## 3.1 Did the earthquake cause internal displacement?\n",
    "\n",
    "Use the data at your disposal to study if and how the earthquake affected the mobility and migration decisions of Rwandans. Some questions of interest (answer as many as you can!):\n",
    " - Was there an abnormal increase in the number of out-migrations from the affected region?\n",
    " - Where did the out-migrants go to?\n",
    " - How long did they stay away?\n",
    "\n",
    "You might want to reference papers such as <a href='http://www.pnas.org/content/109/29/11576.abstract'>\"Predictability of Population Displacement after the 2010 Haiti\"</a> and  <a href='http://journals.plos.org/plosmedicine/article?id=10.1371/journal.pmed.1001083'>\"Improved Response to Disasters and Outbreaks by Tracking Population Movements with Mobile Phone Network Data: A Post-Earthquake Geospatial Study in Haiti\"</a>, but again keep in mind that those are early papers that should be read critically, rather than taken as gospel.\n",
    "\n",
    "## 3.2 How else did the earthquake impact people (as observed in the phone data)?\n",
    "\n",
    "The earthquake affected much more than the migration decisions of people near the epicenter. Do you observe any other noteworthy changes in human/social behavior following the earthquake? Document any quantitative patterns you observe in the CDR, speculate as to what might really be happening in the lives of the phone users generating the CDR, and discuss what next steps you could take if you wanted to investigate these patterns in greater detail.\n",
    "\n",
    "A few papers that you might skim as you work on this include <a href='http://journals.plos.org/plosone/article?id=10.1371/journal.pone.0017680'>\"Collective Response of Human Populations to Large-Scale Emergencies\"</a>, <a href='http://www.aaai.org/ocs/index.php/SSS/SSS10/paper/viewFile/1180/1350'>\"People, Quakes, and Communications: Inferences from Call Dynamics about a Seismic Event and its Influences on a Population\"</a>, and <a href='http://journals.plos.org/plosone/article?id=10.1371/journal.pone.0120449'>\"Spatiotemporal detection of unusual human population behavior using mobile phone data\"</a>."
   ]
  },
  {
   "cell_type": "code",
   "execution_count": null,
   "metadata": {
    "collapsed": true
   },
   "outputs": [],
   "source": [
    "#\n",
    "# Your code here\n",
    "#"
   ]
  },
  {
   "cell_type": "markdown",
   "metadata": {},
   "source": [
    "\n",
    "*Your documentation, justification, interpreation goes here*\n"
   ]
  }
 ],
 "metadata": {
  "anaconda-cloud": {},
  "kernelspec": {
   "display_name": "Python 3",
   "language": "python",
   "name": "python3"
  },
  "language_info": {
   "codemirror_mode": {
    "name": "ipython",
    "version": 3
   },
   "file_extension": ".py",
   "mimetype": "text/x-python",
   "name": "python",
   "nbconvert_exporter": "python",
   "pygments_lexer": "ipython3",
   "version": "3.7.1"
  }
 },
 "nbformat": 4,
 "nbformat_minor": 1
}
