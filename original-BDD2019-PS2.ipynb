{
 "cells": [
  {
   "cell_type": "markdown",
   "metadata": {},
   "source": [
    "# Problem Set 2\n",
    "\n",
    "This problem set will give you the opportunity to download and analyze a small corpus of mobile phone metadata, in order to study the internal migration response to a major earthquake.  The problem set relates loosely to several papers discussed in the class, and in particular to <a href='http://www.sciencedirect.com/science/article/pii/S0304387816000109'>\"Airtime Transfers and Mobile Communications: Evidence in the Aftermath of Natural Disasters\"</a>. You might wish to familiarize yourself with this paper before beginning the assignment.\n",
    "\n",
    "![title](datasets/heatmap.png)\n",
    "\n",
    "## Overview of the problem set\n",
    "\n",
    "These are the key steps in the problem set:\n",
    "\n",
    "1. Download the CDR and familiarize yourself with the dataset\n",
    "2. Develop a method for detecting a \"migration\" event\n",
    "3. Analyze the migration response to the Lake Kivu earthquake"
   ]
  },
  {
   "cell_type": "markdown",
   "metadata": {},
   "source": [
    "# 1. Conduct exploratory analysis of the Call Detail Records\n",
    "\n",
    "Download the three datasets from the course website (available on bCourses under files/PS2).\n",
    "- `cdr_sample.zip`: This dataset contains the full Call Detail Records of a few thousand individuals. These data have been pseudonymized and partially fabricated, to ensure the privacy and confidentiality of the subscribers. However, the data are not that different from the raw data that are collected by mobile phone operators throughout the world. \n",
    "    - There are six columns in this dataset: user_1 (ID of person placing call), user_2 (ID of person receiving call), date, time, tower_1 (location of user_1), and tower_2 (location of user_2). We have strategically sampled ~3600 users and their full call detail records. The users in the column user_1 are these 3600 users.\n",
    "    - Note that the column user_2 might also contain those ~3600 users. Therefore, when calculating the number of logged events per person, don't forget the column user_2. \n",
    "- `celltower_location.csv`: This dataset contains the geocordinates of each cell tower, along with the district in which it is located. We added some jitter to the original coordinates, but each tower still belongs to its original district. \n",
    "- `District_Boundary_2012_merge_kigali.zip`: This dataset is the district [shapefile](https://en.wikipedia.org/wiki/Shapefile) of Rwanda. There are 30 districts in Rwanda, but we have merged the 3 districts that comprise the capital of Kigali. Thus, you will find 28 districts in the dataset.\n",
    "\n",
    "## 1.1 Present basic descriptive statistics, tables, and figures, to summarize the data\n",
    "\n",
    "Construct a set of tables and figures that summarize key characteristics of this dataset: how many unique individuals, what time period is covered, how many events are logged per person, and so forth. Imagine that you are constructing the first tables and figures in a research paper, and you wish to provide your reader with as much intuition as possible about what information is contained in your dataset. Be creative, but be disciplined. Your figures should be professional, carefully labelled, and easily interpreted.\n"
   ]
  },
  {
   "cell_type": "code",
   "execution_count": null,
   "metadata": {
    "collapsed": true
   },
   "outputs": [],
   "source": [
    "#\n",
    "# enter code here\n",
    "#"
   ]
  },
  {
   "cell_type": "markdown",
   "metadata": {},
   "source": [
    "## 1.2 Show off your mapping skills\n",
    "\n",
    "Construct a figure (or two) that provides some geo-spatial intuition behind these data. The `celltower_locations.csv` file will allow you to map towers (referenced in the CDR) to GPS coordinates. Some ideas for what you might do:\n",
    " - Construct a heat-map showing the density of frequently visited locations\n",
    " - Show a voronoi tesselation of the country, to give an intuition for the density of towers in different locations\n",
    " - Assign a 'home location' to each person (up to you how to do so!), and map each person's home location\n",
    " - Build a time-series to visualize how the spatial distribution of phone use changes over time\n",
    " - Something else creative that you come up with!\n",
    "\n",
    "Hint: You might considering using [geopandas](http://geopandas.org/) to read shapefile, [shapely](https://github.com/Toblerity/Shapely) to create geometry, and [folium](https://python-visualization.github.io/folium/) to create maps."
   ]
  },
  {
   "cell_type": "code",
   "execution_count": 1,
   "metadata": {
    "collapsed": true
   },
   "outputs": [],
   "source": [
    "#\n",
    "# Your code here\n",
    "#"
   ]
  },
  {
   "cell_type": "markdown",
   "metadata": {},
   "source": [
    "# 2. Measuring Migration\n",
    "\n",
    "## 2.1 Write an (unsupervised) algorithm to infer migration from the CDR\n",
    "\n",
    "For each individual in the dataset, the CDR provides you with an intermittent stream of their approximate locations over time. What I would like you to do is to convert this streaming log data into a structured dataset that makes it possible to quantify and study internal migration in Rwanda. In particular, use the data you have to quantify the number of migration events that occur in each month that is contained in the CDR. Produce a single time-series figure that has \"Year-Month\" on the x-axis, and \"Number of observed migrations\" on the y-axis.\n",
    "\n",
    "Please note that this is actually a complex task and there are many possible ways to do this. There is no \"right\" way to do this -- although there are many \"wrong\" ways. Be creative, but be rigorous. Document and justify the decisions you make along the way, and write a few paragraphs below to summarize your approach and findings.\n",
    "\n",
    "As a starting point, you should probably review the approach I described in <a href='http://www.tandfonline.com/doi/abs/10.1080/02681102.2011.643209'>\"Inferring Patterns of Internal Migration from Mobile Phone Call Records: Evidence from Rwanda\"</a>. As discussed in class, that approach has many flaws, so I strongly encourage you to come up with your own approach."
   ]
  },
  {
   "cell_type": "code",
   "execution_count": null,
   "metadata": {
    "collapsed": true
   },
   "outputs": [],
   "source": [
    "#\n",
    "# Your code here\n",
    "#"
   ]
  },
  {
   "cell_type": "markdown",
   "metadata": {},
   "source": [
    "\n",
    "*Your documentation, justification, interpreation goes here*\n",
    "\n"
   ]
  },
  {
   "cell_type": "markdown",
   "metadata": {},
   "source": [
    "# 3. The Lake Kivu Earthquake\n",
    "\n",
    "On February 3, 2008, a large earthquake struck the Lake Kivu region of Rwanda and the DRC (see <a href='https://en.wikipedia.org/wiki/2008_Lake_Kivu_earthquake'>wikipedia</a> and <a href='https://earthquake.usgs.gov/earthquakes/eventpage/usp000fy21/executive'>USGS</a> summaries). \n",
    "\n",
    "## 3.1 Did the earthquake cause internal displacement?\n",
    "\n",
    "Use the data at your disposal to study if and how the earthquake affected the mobility and migration decisions of Rwandans. Some questions of interest (answer as many as you can!):\n",
    " - Was there an abnormal increase in the number of out-migrations from the affected region?\n",
    " - Where did the out-migrants go to?\n",
    " - How long did they stay away?\n",
    "\n",
    "You might want to reference papers such as <a href='http://www.pnas.org/content/109/29/11576.abstract'>\"Predictability of Population Displacement after the 2010 Haiti\"</a> and  <a href='http://journals.plos.org/plosmedicine/article?id=10.1371/journal.pmed.1001083'>\"Improved Response to Disasters and Outbreaks by Tracking Population Movements with Mobile Phone Network Data: A Post-Earthquake Geospatial Study in Haiti\"</a>, but again keep in mind that those are early papers that should be read critically, rather than taken as gospel.\n",
    "\n",
    "## 3.2 How else did the earthquake impact people (as observed in the phone data)?\n",
    "\n",
    "The earthquake affected much more than the migration decisions of people near the epicenter. Do you observe any other noteworthy changes in human/social behavior following the earthquake? Document any quantitative patterns you observe in the CDR, speculate as to what might really be happening in the lives of the phone users generating the CDR, and discuss what next steps you could take if you wanted to investigate these patterns in greater detail.\n",
    "\n",
    "A few papers that you might skim as you work on this include <a href='http://journals.plos.org/plosone/article?id=10.1371/journal.pone.0017680'>\"Collective Response of Human Populations to Large-Scale Emergencies\"</a>, <a href='http://www.aaai.org/ocs/index.php/SSS/SSS10/paper/viewFile/1180/1350'>\"People, Quakes, and Communications: Inferences from Call Dynamics about a Seismic Event and its Influences on a Population\"</a>, and <a href='http://journals.plos.org/plosone/article?id=10.1371/journal.pone.0120449'>\"Spatiotemporal detection of unusual human population behavior using mobile phone data\"</a>."
   ]
  },
  {
   "cell_type": "code",
   "execution_count": null,
   "metadata": {
    "collapsed": true
   },
   "outputs": [],
   "source": [
    "#\n",
    "# Your code here\n",
    "#"
   ]
  },
  {
   "cell_type": "markdown",
   "metadata": {},
   "source": [
    "\n",
    "*Your documentation, justification, interpreation goes here*\n"
   ]
  }
 ],
 "metadata": {
  "anaconda-cloud": {},
  "kernelspec": {
   "display_name": "Python 2",
   "language": "python",
   "name": "python2"
  },
  "language_info": {
   "codemirror_mode": {
    "name": "ipython",
    "version": 2
   },
   "file_extension": ".py",
   "mimetype": "text/x-python",
   "name": "python",
   "nbconvert_exporter": "python",
   "pygments_lexer": "ipython2",
   "version": "2.7.15"
  }
 },
 "nbformat": 4,
 "nbformat_minor": 1
}
